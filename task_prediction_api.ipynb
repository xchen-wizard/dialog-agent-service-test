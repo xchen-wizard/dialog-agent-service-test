{
 "cells": [
  {
   "cell_type": "code",
   "execution_count": 3,
   "id": "1ac1f6ae",
   "metadata": {},
   "outputs": [],
   "source": [
    "from __future__ import annotations\n",
    "\n",
    "from dialog_agent_service.conversational_agent.infer import create_input_task\n",
    "from dialog_agent_service.app_utils import predict_custom_trained_model_sample\n"
   ]
  },
  {
   "cell_type": "code",
   "execution_count": 12,
   "id": "edeb453e",
   "metadata": {},
   "outputs": [],
   "source": [
    "project_id = 'stage-us-334018'\n",
    "endpoint_id = '3705940482' "
   ]
  },
  {
   "cell_type": "code",
   "execution_count": 16,
   "id": "a6cf6dd8",
   "metadata": {},
   "outputs": [],
   "source": [
    "import os\n",
    "def predict_fn(text: str | list[str]):\n",
    "    if isinstance(text, str):\n",
    "        text = [text]\n",
    "    responses = predict_custom_trained_model_sample(\n",
    "        project=project_id,\n",
    "        endpoint_id=endpoint_id,\n",
    "        location=os.getenv('VERTEX_AI_LOCATION', 'us-central1'),\n",
    "        api_endpoint=os.getenv(\n",
    "            'VERTEX_AI_ENDPOINT',\n",
    "            'us-central1-aiplatform.googleapis.com',\n",
    "        ),\n",
    "        instances=[{'data': {'context': t}} for t in text],\n",
    "    )\n",
    "    return responses"
   ]
  },
  {
   "cell_type": "code",
   "execution_count": 5,
   "id": "1cdd03c5",
   "metadata": {},
   "outputs": [],
   "source": [
    "with open(\"test_data/task_descriptions.txt\") as f:\n",
    "    task_description = f.read()"
   ]
  },
  {
   "cell_type": "code",
   "execution_count": 6,
   "id": "4a6394b6",
   "metadata": {},
   "outputs": [
    {
     "data": {
      "text/plain": [
       "'The following is the list of tasks and their descriptions.\\n- CreateOrUpdateOrderCart: When the buyer expresses their intention to start an order or purchase an item or add items to existing order. Sometimes they may ask to add or remove things from the cart.  Only when the buyer has confirmed that they are done adding things to their cart do we move on to the next task of FinalizeOrder.\\n- FinalizeOrder: If the buyer is done adding things to their cart and has affirmed the offer to proceed with purchase. We first send them a signup link to provide us with their shipping and billing information. Once they have filled the form online, we ask for a confirmation again based on the total price of their cart including shipping. If they affirm, we place the order and the task is finished.\\n- RecommendProduct: When the buyer is asking us for a recommendation on products, or they are looking for product(s) with certain features. Sometimes they are just not sure what to buy and are looking to us for guidance.\\n- UpdateAccountDetails: The buyer wants to update their address or just the address for delivery or credit card details.\\n- AnswerProductQuestions: The buyer has a question about a product or few products: could be their price or other attributes.\\n- PromotionsorDiscounts: The buyer wants to know about existing promotions or discounts. they may want a discount code or want to apply a discount to their order or confirm if the discount was applied to their order.\\n- AnswerMiscellaneousQuestions: questions that are about the seller policies, like shipping cost. or about the current cart, order total, etc. or how to use the service, i.e. place an order over text.\\n- ResolveOrderIssue: The buyer has an issue with their recent order.\\n- GiveOrderStatus: The buyer wants to know the status of their most recent order.\\n- CancelOrder: The buyer wants to cancel the order. This is only applicable if they have already placed the order. Changing an existing order is covered by CreateOrUpdateOrderCart.\\n- ReturnOrder: The buyer wants to return the order.\\n- None: The buyer is not really expecting us to do anything or say anything in response.\\n- Unknown: We cannot map the task buyer wants us to do to any of the above.\\n- MedicalorClinical: The buyer has a medical question or some question on health impact of our product.\\n- TransferToAgent: The buyer wants to talk to a human agent.\\n'"
      ]
     },
     "execution_count": 6,
     "metadata": {},
     "output_type": "execute_result"
    }
   ],
   "source": [
    "task_description"
   ]
  },
  {
   "cell_type": "code",
   "execution_count": 8,
   "id": "6aca2ca3",
   "metadata": {},
   "outputs": [],
   "source": [
    "convo = \"\"\"\n",
    "\"Seller: Order confirmed - way to refuel like a GOAT! \n",
    "\n",
    "Total is $71.98 with estimated arrival in 7-10 business days. We'll text you a tracking link when it ships.\n",
    "\n",
    "Save our contact and let us know when you need to restock again!\n",
    "Good news! Your G.O.A.T. Fuel order is on its way.\n",
    "Tracking: https://l.wizard.com/5h9z\n",
    "Your G.O.A.T. Fuel order has been delivered. Enjoy!\n",
    "Looks like it's time to order some more G.O.A.T Fuel! \n",
    "\n",
    "Or, if you'd like to start a subscription and save 10% with delivery every 30 days, reply SUBSCRIBE. Let us know what we can get started for you today!\n",
    "G.O.A.T. Fuel: To celebrate St. Patrick's Day, we are giving our text subscribers 10% OFF our favorite shade of green: Tropical Berry.\n",
    "\n",
    "Add a festive touch to your St. Patrick's Day celebrations, and learn why it's better to be great than to be lucky. \n",
    "\n",
    "Reply BE GREAT to get your discount.\n",
    "G.O.A.T. Fuel: The madness continues this weekend. Witness greatness on the court, and we'll keep YOU fueled to perform at your peak.\n",
    "\n",
    "We're launching our own bracket to let you choose which flavor is the GOAT. If your choices advance, you'll be entered to win a free 12-pack.\n",
    "\n",
    "Reply BRACKET to make your first round of picks. \n",
    "User: Bracket\n",
    "\"\"\""
   ]
  },
  {
   "cell_type": "code",
   "execution_count": 14,
   "id": "31099455",
   "metadata": {},
   "outputs": [],
   "source": [
    "prompt = create_input_task(convo, task_descriptions=task_description)"
   ]
  },
  {
   "cell_type": "code",
   "execution_count": 10,
   "id": "a3dd213c",
   "metadata": {},
   "outputs": [
    {
     "data": {
      "text/plain": [
       "[\"\\npredict task based on task descriptions below:\\nThe following is the list of tasks and their descriptions.\\n- CreateOrUpdateOrderCart: When the buyer expresses their intention to start an order or purchase an item or add items to existing order. Sometimes they may ask to add or remove things from the cart.  Only when the buyer has confirmed that they are done adding things to their cart do we move on to the next task of FinalizeOrder.\\n- FinalizeOrder: If the buyer is done adding things to their cart and has affirmed the offer to proceed with purchase. We first send them a signup link to provide us with their shipping and billing information. Once they have filled the form online, we ask for a confirmation again based on the total price of their cart including shipping. If they affirm, we place the order and the task is finished.\\n- RecommendProduct: When the buyer is asking us for a recommendation on products, or they are looking for product(s) with certain features. Sometimes they are just not sure what to buy and are looking to us for guidance.\\n- UpdateAccountDetails: The buyer wants to update their address or just the address for delivery or credit card details.\\n- AnswerProductQuestions: The buyer has a question about a product or few products: could be their price or other attributes.\\n- PromotionsorDiscounts: The buyer wants to know about existing promotions or discounts. they may want a discount code or want to apply a discount to their order or confirm if the discount was applied to their order.\\n- AnswerMiscellaneousQuestions: questions that are about the seller policies, like shipping cost. or about the current cart, order total, etc. or how to use the service, i.e. place an order over text.\\n- ResolveOrderIssue: The buyer has an issue with their recent order.\\n- GiveOrderStatus: The buyer wants to know the status of their most recent order.\\n- CancelOrder: The buyer wants to cancel the order. This is only applicable if they have already placed the order. Changing an existing order is covered by CreateOrUpdateOrderCart.\\n- ReturnOrder: The buyer wants to return the order.\\n- None: The buyer is not really expecting us to do anything or say anything in response.\\n- Unknown: We cannot map the task buyer wants us to do to any of the above.\\n- MedicalorClinical: The buyer has a medical question or some question on health impact of our product.\\n- TransferToAgent: The buyer wants to talk to a human agent.\\n\\nThe below is an interaction between buyer and seller:\\natrick's Day, we are giving our text subscribers 10% OFF our favorite shade of green: Tropical Berry.\\n\\nAdd a festive touch to your St. Patrick's Day celebrations, and learn why it's better to be great than to be lucky. \\n\\nReply BE GREAT to get your discount.\\nG.O.A.T. Fuel: The madness continues this weekend. Witness greatness on the court, and we'll keep YOU fueled to perform at your peak.\\n\\nWe're launching our own bracket to let you choose which flavor is the GOAT. If your choices advance, you'll be entered to win a free 12-pack.\\n\\nReply BRACKET to make your first round of picks. \\nUser: Bracket\\n\\nWrite a comma separated list of tasks that the buyer wants us to do right now.\\n\"]"
      ]
     },
     "execution_count": 10,
     "metadata": {},
     "output_type": "execute_result"
    }
   ],
   "source": [
    "prompt"
   ]
  },
  {
   "cell_type": "code",
   "execution_count": 17,
   "id": "69115706",
   "metadata": {},
   "outputs": [],
   "source": [
    "response = predict_fn(prompt)"
   ]
  },
  {
   "cell_type": "code",
   "execution_count": 18,
   "id": "2e2e00ca",
   "metadata": {},
   "outputs": [
    {
     "data": {
      "text/plain": [
       "['CreateOrUpdateOrderCart']"
      ]
     },
     "execution_count": 18,
     "metadata": {},
     "output_type": "execute_result"
    }
   ],
   "source": [
    "response"
   ]
  },
  {
   "cell_type": "code",
   "execution_count": null,
   "id": "f833038b",
   "metadata": {},
   "outputs": [],
   "source": []
  }
 ],
 "metadata": {
  "kernelspec": {
   "display_name": "dialog-agent-service-lkeiyjnv-py3.9",
   "language": "python",
   "name": "dialog-agent-service-lkeiyjnv-py3.9"
  },
  "language_info": {
   "codemirror_mode": {
    "name": "ipython",
    "version": 3
   },
   "file_extension": ".py",
   "mimetype": "text/x-python",
   "name": "python",
   "nbconvert_exporter": "python",
   "pygments_lexer": "ipython3",
   "version": "3.9.7"
  }
 },
 "nbformat": 4,
 "nbformat_minor": 5
}
