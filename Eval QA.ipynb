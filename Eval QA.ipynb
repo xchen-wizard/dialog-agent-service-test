{
 "cells": [
  {
   "cell_type": "code",
   "execution_count": 1,
   "id": "b809e8e6",
   "metadata": {},
   "outputs": [],
   "source": [
    "%load_ext autoreload\n",
    "\n",
    "%autoreload 2"
   ]
  },
  {
   "cell_type": "code",
   "execution_count": 2,
   "id": "4f82a32c",
   "metadata": {},
   "outputs": [],
   "source": [
    "import mysql.connector.pooling\n",
    "import os\n",
    "import logging\n",
    "\n",
    "logger = logging.getLogger()"
   ]
  },
  {
   "cell_type": "code",
   "execution_count": 3,
   "id": "75eea3b0",
   "metadata": {},
   "outputs": [],
   "source": [
    "from dialog_agent_service import init_mysql_db"
   ]
  },
  {
   "cell_type": "code",
   "execution_count": 4,
   "id": "5365832c",
   "metadata": {},
   "outputs": [],
   "source": [
    "mysql_pool = init_mysql_db()"
   ]
  },
  {
   "cell_type": "code",
   "execution_count": 8,
   "id": "19c26fdb",
   "metadata": {},
   "outputs": [],
   "source": [
    "from dialog_agent_service.db import get_mysql_cnx_cursor\n",
    "\n",
    "query = \"\"\"\n",
    "select fq.merchantId, fq.text as 'question', fa.text as 'answer' from faqs fq join faqs fa on fq.answerId = fa.id where fq.type = 'question'\n",
    "\"\"\"\n",
    "with get_mysql_cnx_cursor() as cursor:\n",
    "    cursor.execute(query)\n",
    "    data = cursor.fetchall()"
   ]
  },
  {
   "cell_type": "code",
   "execution_count": 9,
   "id": "ecbf70d2",
   "metadata": {},
   "outputs": [
    {
     "data": {
      "text/plain": [
       "430"
      ]
     },
     "execution_count": 9,
     "metadata": {},
     "output_type": "execute_result"
    }
   ],
   "source": [
    "len(data)"
   ]
  },
  {
   "cell_type": "code",
   "execution_count": 23,
   "id": "2aaaed36",
   "metadata": {},
   "outputs": [],
   "source": [
    "# get merchantId to vendorName\n",
    "query = \"\"\"\n",
    "select id, name from vendors\n",
    "\"\"\"\n",
    "with get_mysql_cnx_cursor() as cursor:\n",
    "    cursor.execute(query)\n",
    "    merchants = cursor.fetchall()"
   ]
  },
  {
   "cell_type": "code",
   "execution_count": 24,
   "id": "beebad5f",
   "metadata": {},
   "outputs": [],
   "source": [
    "id2merchant = {str(item['id']): item['name'] for item in merchants}"
   ]
  },
  {
   "cell_type": "code",
   "execution_count": 43,
   "id": "30c92d47",
   "metadata": {},
   "outputs": [],
   "source": [
    "from dialog_agent_service.conversational_agent.chatgpt import answer_with_prompt"
   ]
  },
  {
   "cell_type": "code",
   "execution_count": 10,
   "id": "4f2e53e5",
   "metadata": {},
   "outputs": [
    {
     "data": {
      "text/plain": [
       "{'merchantId': 33,\n",
       " 'question': 'When can I expect my Holiday Beauty Event order to arrive?',\n",
       " 'answer': 'Please know that we are working as hard as we can to get your order to you! If you place an order before 12 P.M. EST on a business day, you can expect your order to ship out that same day. If you place an order after 12 P.M. EST on a business day or on a weekend/holiday, it will take 1-2 business days for your order to be fulfilled and shipped. Once shipped, domestic orders take approximately 3-7 days to arrive at its destination. International orders can take anywhere between 15-25 days for delivery.'}"
      ]
     },
     "execution_count": 10,
     "metadata": {},
     "output_type": "execute_result"
    }
   ],
   "source": [
    "data[0]"
   ]
  },
  {
   "cell_type": "code",
   "execution_count": 44,
   "id": "e7b87365",
   "metadata": {},
   "outputs": [],
   "source": [
    "from dialog_agent_service.conversational_agent.task_handlers.handle_answer_miscellaneous_questions import handle_answer_miscellaneous_questions\n",
    "from dialog_agent_service.conversational_agent.conversation_parser import Conversation\n"
   ]
  },
  {
   "cell_type": "markdown",
   "id": "47d999f4",
   "metadata": {},
   "source": [
    "## experiment"
   ]
  },
  {
   "cell_type": "code",
   "execution_count": 41,
   "id": "cd1a4590",
   "metadata": {},
   "outputs": [],
   "source": [
    "convo = Conversation([('inbound', data[0]['question'])])"
   ]
  },
  {
   "cell_type": "code",
   "execution_count": 42,
   "id": "21295552",
   "metadata": {},
   "outputs": [
    {
     "data": {
      "text/plain": [
       "{'handoff': False,\n",
       " 'response': 'Please know that we are working as hard as we can to get your order to you! If you place an order before 12 P.M. EST on a business day, you can expect your order to ship out that same day. If you place an order after 12 P.M. EST on a business day or on a weekend/holiday, it will take 1-2 business days for your order to be fulfilled and shipped. Once shipped, domestic orders take approximately 3-7 days to arrive at its destination. International orders can take anywhere between 15-25 days for delivery.'}"
      ]
     },
     "execution_count": 42,
     "metadata": {},
     "output_type": "execute_result"
    }
   ],
   "source": [
    "handle_answer_miscellaneous_questions(\n",
    "    cnv_obj=convo, \n",
    "    merchant_id=str(data[0]['merchantId']),\n",
    "    vendor=id2merchant[str(data[0]['merchantId'])]\n",
    ")"
   ]
  },
  {
   "cell_type": "markdown",
   "id": "8681a57b",
   "metadata": {},
   "source": [
    "## single threaded requests"
   ]
  },
  {
   "cell_type": "code",
   "execution_count": 25,
   "id": "21b92415",
   "metadata": {},
   "outputs": [],
   "source": [
    "queries = []\n",
    "for item in data:\n",
    "    convo = Conversation([('inbound', item['question'])])\n",
    "    q_args = (convo, str(item['merchantId']), id2merchant[str(item['merchantId'])])\n",
    "    queries.append(q_args)"
   ]
  },
  {
   "cell_type": "code",
   "execution_count": 46,
   "id": "ccd0273f",
   "metadata": {},
   "outputs": [
    {
     "name": "stderr",
     "output_type": "stream",
     "text": [
      "  0%|▌                                                                                                                | 2/430 [00:20<1:14:42, 10.47s/it]\n"
     ]
    }
   ],
   "source": [
    "results = []\n",
    "for idx, (convo, merchant_id, merchant_name) in tqdm.tqdm(enumerate(queries), total=len(queries)):\n",
    "    rslt = {\n",
    "        'merchant_id': merchant_id,\n",
    "        'merchant_name': merchant_name,\n",
    "        'question': str(convo),\n",
    "        'ground_truth': data[idx]['answer']\n",
    "    }\n",
    "    \n",
    "    try:\n",
    "        resp = handle_answer_miscellaneous_questions(convo, merchant_id, merchant_name)\n",
    "        rslt['bot_answer'] = resp.get('response')\n",
    "    except Exception as e:\n",
    "        print(idx, e)\n",
    "    results.append(rslt)\n",
    "        \n",
    "        \n",
    "    "
   ]
  },
  {
   "cell_type": "code",
   "execution_count": 47,
   "id": "7eaf046f",
   "metadata": {},
   "outputs": [
    {
     "data": {
      "text/plain": [
       "[{'merchant_id': '33',\n",
       "  'merchant_name': 'AAVRANI',\n",
       "  'question': 'Buyer: When can I expect my Holiday Beauty Event order to arrive?',\n",
       "  'ground_truth': 'Please know that we are working as hard as we can to get your order to you! If you place an order before 12 P.M. EST on a business day, you can expect your order to ship out that same day. If you place an order after 12 P.M. EST on a business day or on a weekend/holiday, it will take 1-2 business days for your order to be fulfilled and shipped. Once shipped, domestic orders take approximately 3-7 days to arrive at its destination. International orders can take anywhere between 15-25 days for delivery.',\n",
       "  'bot_answer': 'Hi there! If you place an order before 12 P.M. EST on a business day, you can expect your order to ship out that same day. If you place an order after 12 P.M. EST on a business day or on a weekend/holiday, it will take 1-2 business days for your order to be fulfilled and shipped. Once shipped, domestic orders take approximately 3-7 days to arrive at its destination. International orders can take anywhere between 15-25 days for delivery.'},\n",
       " {'merchant_id': '33',\n",
       "  'merchant_name': 'AAVRANI',\n",
       "  'question': 'Buyer: What happens after I place an order?',\n",
       "  'ground_truth': 'After you place an order on AAVRANI.com, you will receive an email notification to the email address you provided while placing the order, confirming that we received your order. A Client Care Specialist reviews and handles every order. The Order Confirmation email you receive does not confirm your order is being fulfilled and shipped. Once your order is fulfilled and on its way, we will send you a Shipment Confirmation email to confirm. If we cannot fulfill your order, a Client Care Specialist will send a follow-up email and the purchase amount will be returned to your method of payment.',\n",
       "  'bot_answer': 'After you place an order on AAVRANI.com, you will receive an email notification confirming that we received your order. A Client Care Specialist reviews and handles every order. Once your order is fulfilled and on its way, we will send you a Shipment Confirmation email to confirm. If we cannot fulfill your order, a Client Care Specialist will send a follow-up email and the purchase amount will be returned to your method of payment.'}]"
      ]
     },
     "execution_count": 47,
     "metadata": {},
     "output_type": "execute_result"
    }
   ],
   "source": [
    "results"
   ]
  },
  {
   "cell_type": "code",
   "execution_count": 48,
   "id": "b158261d",
   "metadata": {},
   "outputs": [],
   "source": [
    "import json   \n",
    "with open('qa_chatgpt_3.5.json', 'w') as f:\n",
    "    json.dump(results, f)"
   ]
  },
  {
   "cell_type": "markdown",
   "id": "2a15c97d",
   "metadata": {},
   "source": [
    "## concurrent queries:\n",
    "1) not possible due to gql client being sync and we cannot instantiate multiple clients \n",
    "2) openai rate limiting\n",
    " That model is currently overloaded with other requests. You can retry your request, or contact us through our help center at help.openai.com if the error persists. (Please include the request ID 53b4f993b56f5eb777b4f3f821c6f4b7 in your message.)"
   ]
  },
  {
   "cell_type": "code",
   "execution_count": 26,
   "id": "2c6c1b9d",
   "metadata": {
    "scrolled": true
   },
   "outputs": [
    {
     "data": {
      "text/plain": [
       "(<dialog_agent_service.conversational_agent.conversation_parser.Conversation at 0x7fe6e979bac0>,\n",
       " '33',\n",
       " 'AAVRANI')"
      ]
     },
     "execution_count": 26,
     "metadata": {},
     "output_type": "execute_result"
    }
   ],
   "source": [
    "queries[0]"
   ]
  },
  {
   "cell_type": "code",
   "execution_count": 30,
   "id": "9e0d3575",
   "metadata": {},
   "outputs": [
    {
     "data": {
      "text/plain": [
       "'Buyer: Can I cancel my order?'"
      ]
     },
     "execution_count": 30,
     "metadata": {},
     "output_type": "execute_result"
    }
   ],
   "source": [
    "str(convo)"
   ]
  },
  {
   "cell_type": "code",
   "execution_count": 45,
   "id": "f3dbf2ae",
   "metadata": {},
   "outputs": [
    {
     "name": "stderr",
     "output_type": "stream",
     "text": [
      "/var/folders/t6/nfz7c9013f75jjx506l2qvp80000gn/T/ipykernel_56257/1123582815.py:19: RuntimeWarning: coroutine 'get_qa' was never awaited\n",
      "  future_to_url = {executor.submit(get_qa, convo, merchant_id, merchant_name):\n",
      "RuntimeWarning: Enable tracemalloc to get the object allocation traceback\n",
      "/var/folders/t6/nfz7c9013f75jjx506l2qvp80000gn/T/ipykernel_56257/1123582815.py:24: RuntimeWarning: coroutine 'get_qa' was never awaited\n",
      "  resp = future.result()\n",
      "RuntimeWarning: Enable tracemalloc to get the object allocation traceback\n"
     ]
    },
    {
     "name": "stdout",
     "output_type": "stream",
     "text": [
      "Convo 1 generated an exception: That model is currently overloaded with other requests. You can retry your request, or contact us through our help center at help.openai.com if the error persists. (Please include the request ID 53b4f993b56f5eb777b4f3f821c6f4b7 in your message.)\n"
     ]
    }
   ],
   "source": [
    "import tqdm\n",
    "import concurrent.futures\n",
    "\n",
    "def get_qa(convo, merchant_id, merchant_name):\n",
    "    \"\"\"\n",
    "    Args:\n",
    "        convo: Conversation obj\n",
    "        idx: to keep track of the indices in the FAQs\n",
    "    \"\"\"\n",
    "    resp = handle_answer_miscellaneous_questions(\n",
    "        cnv_obj=convo,\n",
    "        merchant_id=merchant_id,\n",
    "        vendor=merchant_name\n",
    "    )\n",
    "    return resp\n",
    "    \n",
    "responses = []\n",
    "with concurrent.futures.ThreadPoolExecutor(max_workers=5) as executor:\n",
    "    future_to_url = {executor.submit(get_qa, convo, merchant_id, merchant_name): \n",
    "                     (idx, merchant_name, str(convo)) for idx, (convo, merchant_id, merchant_name) in enumerate(queries[:5])}\n",
    "    for future in concurrent.futures.as_completed(future_to_url):\n",
    "        idx, merchant_name, convo = future_to_url[future]\n",
    "        try:\n",
    "            resp = future.result()\n",
    "        except Exception as exc:\n",
    "            print(f'Convo {idx} generated an exception: {exc}')\n",
    "        else:\n",
    "            responses.append((idx, resp))\n"
   ]
  },
  {
   "cell_type": "code",
   "execution_count": 1,
   "id": "5c5cfe1b",
   "metadata": {},
   "outputs": [],
   "source": [
    "import json\n",
    "with open('qa_chatgpt_3.5.json') as f:\n",
    "    data_3 = json.load(f)"
   ]
  },
  {
   "cell_type": "code",
   "execution_count": 2,
   "id": "453a17f5",
   "metadata": {},
   "outputs": [],
   "source": [
    "with open('qa_chatgpt_4.json') as f:\n",
    "    data_4 = json.load(f)"
   ]
  },
  {
   "cell_type": "code",
   "execution_count": 3,
   "id": "39dfb381",
   "metadata": {},
   "outputs": [
    {
     "data": {
      "text/plain": [
       "{'merchant_id': '33',\n",
       " 'merchant_name': 'AAVRANI',\n",
       " 'question': 'Buyer: When can I expect my Holiday Beauty Event order to arrive?',\n",
       " 'ground_truth': 'Please know that we are working as hard as we can to get your order to you! If you place an order before 12 P.M. EST on a business day, you can expect your order to ship out that same day. If you place an order after 12 P.M. EST on a business day or on a weekend/holiday, it will take 1-2 business days for your order to be fulfilled and shipped. Once shipped, domestic orders take approximately 3-7 days to arrive at its destination. International orders can take anywhere between 15-25 days for delivery.',\n",
       " 'bot_answer': 'Please know that we are working as hard as we can to get your order to you! If you place an order before 12 P.M. EST on a business day, you can expect your order to ship out that same day. If you place an order after 12 P.M. EST on a business day or on a weekend/holiday, it will take 1-2 business days for your order to be fulfilled and shipped. Once shipped, domestic orders take approximately 3-7 days to arrive at its destination. International orders can take anywhere between 15-25 days for delivery.'}"
      ]
     },
     "execution_count": 3,
     "metadata": {},
     "output_type": "execute_result"
    }
   ],
   "source": [
    "data_3[0]"
   ]
  },
  {
   "cell_type": "code",
   "execution_count": 4,
   "id": "97a2e2f7",
   "metadata": {},
   "outputs": [
    {
     "data": {
      "text/plain": [
       "{'merchant_id': '33',\n",
       " 'merchant_name': 'AAVRANI',\n",
       " 'question': 'Buyer: When can I expect my Holiday Beauty Event order to arrive?',\n",
       " 'ground_truth': 'Please know that we are working as hard as we can to get your order to you! If you place an order before 12 P.M. EST on a business day, you can expect your order to ship out that same day. If you place an order after 12 P.M. EST on a business day or on a weekend/holiday, it will take 1-2 business days for your order to be fulfilled and shipped. Once shipped, domestic orders take approximately 3-7 days to arrive at its destination. International orders can take anywhere between 15-25 days for delivery.',\n",
       " 'bot_answer': 'Hi there! If you place an order before 12 P.M. EST on a business day, it will likely ship the same day. Orders placed after 12 P.M. EST or on weekends/holidays take 1-2 business days to be fulfilled and shipped. Domestic orders take approximately 3-7 days to arrive, while international orders take 15-25 days for delivery.'}"
      ]
     },
     "execution_count": 4,
     "metadata": {},
     "output_type": "execute_result"
    }
   ],
   "source": [
    "data_4[0]"
   ]
  },
  {
   "cell_type": "code",
   "execution_count": 15,
   "id": "4a88120f",
   "metadata": {},
   "outputs": [],
   "source": [
    "import pandas as pd\n",
    "\n",
    "df_3 = pd.DataFrame(data_3)"
   ]
  },
  {
   "cell_type": "code",
   "execution_count": 16,
   "id": "9880ace5",
   "metadata": {},
   "outputs": [],
   "source": [
    "df_4 = pd.DataFrame(data_4)"
   ]
  },
  {
   "cell_type": "code",
   "execution_count": 18,
   "id": "a04fe804",
   "metadata": {},
   "outputs": [
    {
     "data": {
      "text/plain": [
       "((430, 5), (430, 5))"
      ]
     },
     "execution_count": 18,
     "metadata": {},
     "output_type": "execute_result"
    }
   ],
   "source": [
    "df_3.shape, df_4.shape"
   ]
  },
  {
   "cell_type": "code",
   "execution_count": 22,
   "id": "2831742b",
   "metadata": {},
   "outputs": [
    {
     "data": {
      "text/plain": [
       "(16, 5)"
      ]
     },
     "execution_count": 22,
     "metadata": {},
     "output_type": "execute_result"
    }
   ],
   "source": [
    "df_3[df_3.question.duplicated()].shape"
   ]
  },
  {
   "cell_type": "code",
   "execution_count": 26,
   "id": "5df81336",
   "metadata": {},
   "outputs": [],
   "source": [
    "df_merged = df_3.merge(df_4[['merchant_id', 'question', 'ground_truth', 'bot_answer']], on=['merchant_id', 'question', 'ground_truth'], how='inner', suffixes=[\"_3.5\", \"_4\"])"
   ]
  },
  {
   "cell_type": "code",
   "execution_count": 30,
   "id": "8fde4ba4",
   "metadata": {},
   "outputs": [],
   "source": [
    "df_merged = df_merged.drop_duplicates(subset=['merchant_id', 'question', 'ground_truth'])"
   ]
  },
  {
   "cell_type": "code",
   "execution_count": 31,
   "id": "ca233b60",
   "metadata": {},
   "outputs": [],
   "source": [
    "df_merged = df_merged.fillna('')"
   ]
  },
  {
   "cell_type": "code",
   "execution_count": 32,
   "id": "a56d79b3",
   "metadata": {},
   "outputs": [],
   "source": [
    "df_merged.to_csv(\"qa_eval_1.csv\", index=False)"
   ]
  },
  {
   "cell_type": "code",
   "execution_count": 86,
   "id": "84f33f23",
   "metadata": {},
   "outputs": [],
   "source": [
    "from rouge import Rouge\n",
    "from sacrebleu.metrics import BLEU\n",
    "rouge = Rouge()\n",
    "bleu = BLEU(lowercase=True, effective_order=True)"
   ]
  },
  {
   "cell_type": "code",
   "execution_count": 42,
   "id": "3fd7fe3e",
   "metadata": {},
   "outputs": [],
   "source": [
    "def get_rouge(hyp, ref, n_gram=1):\n",
    "    hyp = \" \".join(sorted(hyp))\n",
    "    ref = \" \".join(sorted(ref))\n",
    "    if ref == '' and hyp == '': \n",
    "        return {f'rouge-{n_gram}': {'r': 1.0, 'p': 1.0, 'f': 1.0}}\n",
    "        # is empty, whatever in hyp is not precise and recall is also 0\n",
    "    elif ref == '' or hyp == '':\n",
    "        return {f'rouge-{n_gram}': {'r': 0.0, 'p': 0.0, 'f': 0.0}}\n",
    "    else:\n",
    "        return rouge.get_scores(hyps=hyp, refs=ref, ignore_empty=True)[0]"
   ]
  },
  {
   "cell_type": "code",
   "execution_count": 51,
   "id": "664048bf",
   "metadata": {},
   "outputs": [],
   "source": [
    "def get_rouge_scores(refs, hyps, metric='f', n_gram=1):\n",
    "    scores = []\n",
    "    for ref, hyp in zip(refs, hyps):\n",
    "        scores.append(get_rouge(hyp, ref, n_gram=n_gram))\n",
    "    scores = [score[f'rouge-{n_gram}'][metric] for score in scores]\n",
    "    return scores\n",
    "    "
   ]
  },
  {
   "cell_type": "code",
   "execution_count": 52,
   "id": "5973af00",
   "metadata": {},
   "outputs": [
    {
     "data": {
      "text/html": [
       "<div>\n",
       "<style scoped>\n",
       "    .dataframe tbody tr th:only-of-type {\n",
       "        vertical-align: middle;\n",
       "    }\n",
       "\n",
       "    .dataframe tbody tr th {\n",
       "        vertical-align: top;\n",
       "    }\n",
       "\n",
       "    .dataframe thead th {\n",
       "        text-align: right;\n",
       "    }\n",
       "</style>\n",
       "<table border=\"1\" class=\"dataframe\">\n",
       "  <thead>\n",
       "    <tr style=\"text-align: right;\">\n",
       "      <th></th>\n",
       "      <th>merchant_id</th>\n",
       "      <th>merchant_name</th>\n",
       "      <th>question</th>\n",
       "      <th>ground_truth</th>\n",
       "      <th>bot_answer_3.5</th>\n",
       "      <th>bot_answer_4</th>\n",
       "    </tr>\n",
       "  </thead>\n",
       "  <tbody>\n",
       "    <tr>\n",
       "      <th>0</th>\n",
       "      <td>33</td>\n",
       "      <td>AAVRANI</td>\n",
       "      <td>Buyer: When can I expect my Holiday Beauty Eve...</td>\n",
       "      <td>Please know that we are working as hard as we ...</td>\n",
       "      <td>Please know that we are working as hard as we ...</td>\n",
       "      <td>Hi there! If you place an order before 12 P.M....</td>\n",
       "    </tr>\n",
       "  </tbody>\n",
       "</table>\n",
       "</div>"
      ],
      "text/plain": [
       "  merchant_id merchant_name  \\\n",
       "0          33       AAVRANI   \n",
       "\n",
       "                                            question  \\\n",
       "0  Buyer: When can I expect my Holiday Beauty Eve...   \n",
       "\n",
       "                                        ground_truth  \\\n",
       "0  Please know that we are working as hard as we ...   \n",
       "\n",
       "                                      bot_answer_3.5  \\\n",
       "0  Please know that we are working as hard as we ...   \n",
       "\n",
       "                                        bot_answer_4  \n",
       "0  Hi there! If you place an order before 12 P.M....  "
      ]
     },
     "execution_count": 52,
     "metadata": {},
     "output_type": "execute_result"
    }
   ],
   "source": [
    "df_merged.head(1)"
   ]
  },
  {
   "cell_type": "code",
   "execution_count": 81,
   "id": "631d4ac7",
   "metadata": {},
   "outputs": [],
   "source": [
    "rouge_f_scores = get_rouge_scores(refs=df_merged.ground_truth.tolist(), hyps=df_merged['bot_answer_3.5'].tolist(), metric='f')\n"
   ]
  },
  {
   "cell_type": "code",
   "execution_count": 77,
   "id": "f2fde5a2",
   "metadata": {},
   "outputs": [],
   "source": [
    "rouge_r_scores = scores"
   ]
  },
  {
   "cell_type": "code",
   "execution_count": 50,
   "id": "47860986",
   "metadata": {},
   "outputs": [
    {
     "data": {
      "text/plain": [
       "{'whiskers': [<matplotlib.lines.Line2D at 0x164bd85b0>,\n",
       "  <matplotlib.lines.Line2D at 0x164bda800>],\n",
       " 'caps': [<matplotlib.lines.Line2D at 0x164bd86a0>,\n",
       "  <matplotlib.lines.Line2D at 0x164bdb010>],\n",
       " 'boxes': [<matplotlib.lines.Line2D at 0x164bdbac0>],\n",
       " 'medians': [<matplotlib.lines.Line2D at 0x164bdadd0>],\n",
       " 'fliers': [],\n",
       " 'means': [<matplotlib.lines.Line2D at 0x164bd9360>]}"
      ]
     },
     "execution_count": 50,
     "metadata": {},
     "output_type": "execute_result"
    },
    {
     "data": {
      "image/png": "[encoded data removed]",
      "text/plain": [
       "<Figure size 640x480 with 1 Axes>"
      ]
     },
     "metadata": {},
     "output_type": "display_data"
    }
   ],
   "source": [
    "import matplotlib.pyplot as plt\n",
    "plt.boxplot(scores, showfliers=False, showmeans=True)"
   ]
  },
  {
   "cell_type": "code",
   "execution_count": 54,
   "id": "4897b49b",
   "metadata": {},
   "outputs": [
    {
     "data": {
      "text/plain": [
       "{'whiskers': [<matplotlib.lines.Line2D at 0x164c119c0>,\n",
       "  <matplotlib.lines.Line2D at 0x164c116f0>],\n",
       " 'caps': [<matplotlib.lines.Line2D at 0x164c10ca0>,\n",
       "  <matplotlib.lines.Line2D at 0x164c124a0>],\n",
       " 'boxes': [<matplotlib.lines.Line2D at 0x164c11db0>],\n",
       " 'medians': [<matplotlib.lines.Line2D at 0x164c13c40>],\n",
       " 'fliers': [],\n",
       " 'means': [<matplotlib.lines.Line2D at 0x164c13a60>]}"
      ]
     },
     "execution_count": 54,
     "metadata": {},
     "output_type": "execute_result"
    },
    {
     "data": {
      "image/png": "[encoded data removed]",
      "text/plain": [
       "<Figure size 640x480 with 1 Axes>"
      ]
     },
     "metadata": {},
     "output_type": "display_data"
    }
   ],
   "source": [
    "plt.boxplot(bigram_scores, showfliers=False, showmeans=True)"
   ]
  },
  {
   "cell_type": "code",
   "execution_count": 83,
   "id": "3111269c",
   "metadata": {},
   "outputs": [
    {
     "data": {
      "text/plain": [
       "0.9563453036142985"
      ]
     },
     "execution_count": 83,
     "metadata": {},
     "output_type": "execute_result"
    }
   ],
   "source": [
    "import numpy as np\n",
    "np.array(rouge_f_scores).mean()"
   ]
  },
  {
   "cell_type": "code",
   "execution_count": 63,
   "id": "386d7ed1",
   "metadata": {},
   "outputs": [
    {
     "data": {
      "text/plain": [
       "(6, 6)"
      ]
     },
     "execution_count": 63,
     "metadata": {},
     "output_type": "execute_result"
    }
   ],
   "source": [
    "df_merged[df_merged['bot_answer_3.5'] == ''].shape"
   ]
  },
  {
   "cell_type": "code",
   "execution_count": 64,
   "id": "fe796e97",
   "metadata": {},
   "outputs": [],
   "source": [
    "df_merged_only_generated = df_merged[df_merged['bot_answer_3.5'] != '']"
   ]
  },
  {
   "cell_type": "code",
   "execution_count": 66,
   "id": "8db58848",
   "metadata": {},
   "outputs": [],
   "source": [
    "bl_score = bleu.corpus_score(hypotheses=df_merged['bot_answer_3.5'].tolist(), references=[df_merged_only_generated['ground_truth'].tolist()])"
   ]
  },
  {
   "cell_type": "code",
   "execution_count": 97,
   "id": "6b4e622c",
   "metadata": {},
   "outputs": [
    {
     "data": {
      "text/plain": [
       "(77.67267658501582,\n",
       " 0.8360251418135723,\n",
       " [95.95843972880162, 93.46460931192249, 91.79391057876931, 90.50060594760883])"
      ]
     },
     "execution_count": 97,
     "metadata": {},
     "output_type": "execute_result"
    }
   ],
   "source": [
    "bl_score.score, bl_score.bp, bl_score.precisions"
   ]
  },
  {
   "cell_type": "code",
   "execution_count": null,
   "id": "42f63232",
   "metadata": {},
   "outputs": [],
   "source": []
  },
  {
   "cell_type": "code",
   "execution_count": 99,
   "id": "2c5a964c",
   "metadata": {},
   "outputs": [],
   "source": [
    "bl_scores = [bleu.sentence_score(hypothesis=hyp, references=[ref]) for hyp, ref in zip(df_merged['bot_answer_3.5'].tolist(), df_merged_only_generated['ground_truth'].tolist())]\n",
    "\n"
   ]
  },
  {
   "cell_type": "code",
   "execution_count": 95,
   "id": "82cffe84",
   "metadata": {},
   "outputs": [
    {
     "data": {
      "text/plain": [
       "array(['32', 'Freestyle Snacks',\n",
       "       \"Buyer: Aren't there other bamboo diapers?\",\n",
       "       'There are others who claim to sell \"bamboo diapers,\" but their fingers must be crossed behind their backs when they say that -- they only use bamboo for the outer-most liner of the diaper.\\n\\n45-50% of the weight of the diaper is in the pulp, that white fluffy middle of the diaper that does all of the absorbing. And everyone in the US diaper market -- including those other brands claiming to sell \"bamboo\" diapers -- uses wood for their diaper pulp. Meaning they cut down over 1 billion trees a year to make the majority of the materials used in the diaper.\\n\\nNot us. We use sustainable, regenerative bamboo for our pulp. Seriously difficult to do, but worth it because it regrows in 60 days and it\\'s more absorbent.',\n",
       "       'There are other brands that claim to sell \"bamboo diapers,\" but they only use bamboo for the outer-most liner of the diaper. We use sustainable, regenerative bamboo for our pulp, which makes up 45-50% of the weight of the diaper and is more absorbent than wood pulp used by other brands.',\n",
       "       'Hi there! Yes, there are others who claim to sell \"bamboo diapers,\" but they only use bamboo for the outer-most liner. They still use wood for their diaper pulp. We use sustainable, regenerative bamboo for our pulp, which is more absorbent and eco-friendly.'],\n",
       "      dtype=object)"
      ]
     },
     "execution_count": 95,
     "metadata": {},
     "output_type": "execute_result"
    }
   ],
   "source": [
    "df_merged.iloc[100].values"
   ]
  },
  {
   "cell_type": "code",
   "execution_count": 100,
   "id": "69749814",
   "metadata": {},
   "outputs": [
    {
     "data": {
      "text/plain": [
       "(0.9995102003472773,\n",
       " [13.114754098360656,\n",
       "  0.8333333333333334,\n",
       "  0.423728813559322,\n",
       "  0.21551724137931033],\n",
       " 1.0)"
      ]
     },
     "execution_count": 100,
     "metadata": {},
     "output_type": "execute_result"
    }
   ],
   "source": [
    "bl_scores[100].score, bl_scores[100].precisions, bl_scores[100].bp"
   ]
  },
  {
   "cell_type": "code",
   "execution_count": 84,
   "id": "2ec008eb",
   "metadata": {},
   "outputs": [
    {
     "data": {
      "text/plain": [
       "[95.95843972880162, 93.46460931192249, 91.79391057876931, 90.50060594760883]"
      ]
     },
     "execution_count": 84,
     "metadata": {},
     "output_type": "execute_result"
    }
   ],
   "source": [
    "bl_score.precisions"
   ]
  },
  {
   "cell_type": "code",
   "execution_count": null,
   "id": "0bb66e12",
   "metadata": {},
   "outputs": [],
   "source": []
  }
 ],
 "metadata": {
  "kernelspec": {
   "display_name": "Python 3 (ipykernel)",
   "language": "python",
   "name": "python3"
  },
  "language_info": {
   "codemirror_mode": {
    "name": "ipython",
    "version": 3
   },
   "file_extension": ".py",
   "mimetype": "text/x-python",
   "name": "python",
   "nbconvert_exporter": "python",
   "pygments_lexer": "ipython3",
   "version": "3.10.9"
  }
 },
 "nbformat": 4,
 "nbformat_minor": 5
}
